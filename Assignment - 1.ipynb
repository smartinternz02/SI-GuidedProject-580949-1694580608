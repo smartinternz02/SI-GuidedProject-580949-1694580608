{
 "cells": [
  {
   "cell_type": "code",
   "execution_count": 1,
   "id": "00e93bb2",
   "metadata": {},
   "outputs": [],
   "source": [
    "import pandas as pd\n",
    "import numpy as np"
   ]
  },
  {
   "cell_type": "markdown",
   "id": "f4c18564",
   "metadata": {},
   "source": [
    "# Task - 1"
   ]
  },
  {
   "cell_type": "code",
   "execution_count": 4,
   "id": "2a7789b7",
   "metadata": {},
   "outputs": [
    {
     "data": {
      "text/plain": [
       "array([[0.32996192, 0.58845221, 0.73221172, 0.24089678],\n",
       "       [0.65487141, 0.07269124, 0.32368385, 0.71740892],\n",
       "       [0.10849128, 0.77860064, 0.21142337, 0.26299957],\n",
       "       [0.81228526, 0.92259738, 0.75273129, 0.69682328]])"
      ]
     },
     "execution_count": 4,
     "metadata": {},
     "output_type": "execute_result"
    }
   ],
   "source": [
    "data = np.random.rand(4,4)\n",
    "data"
   ]
  },
  {
   "cell_type": "markdown",
   "id": "84484431",
   "metadata": {},
   "source": [
    "# Task - 2"
   ]
  },
  {
   "cell_type": "code",
   "execution_count": 5,
   "id": "a06b2117",
   "metadata": {},
   "outputs": [
    {
     "data": {
      "text/html": [
       "<div>\n",
       "<style scoped>\n",
       "    .dataframe tbody tr th:only-of-type {\n",
       "        vertical-align: middle;\n",
       "    }\n",
       "\n",
       "    .dataframe tbody tr th {\n",
       "        vertical-align: top;\n",
       "    }\n",
       "\n",
       "    .dataframe thead th {\n",
       "        text-align: right;\n",
       "    }\n",
       "</style>\n",
       "<table border=\"1\" class=\"dataframe\">\n",
       "  <thead>\n",
       "    <tr style=\"text-align: right;\">\n",
       "      <th></th>\n",
       "      <th>Random value 1</th>\n",
       "      <th>Random value 2</th>\n",
       "      <th>Random value 3</th>\n",
       "      <th>Random value 4</th>\n",
       "    </tr>\n",
       "  </thead>\n",
       "  <tbody>\n",
       "    <tr>\n",
       "      <th>0</th>\n",
       "      <td>0.329962</td>\n",
       "      <td>0.588452</td>\n",
       "      <td>0.732212</td>\n",
       "      <td>0.240897</td>\n",
       "    </tr>\n",
       "    <tr>\n",
       "      <th>1</th>\n",
       "      <td>0.654871</td>\n",
       "      <td>0.072691</td>\n",
       "      <td>0.323684</td>\n",
       "      <td>0.717409</td>\n",
       "    </tr>\n",
       "    <tr>\n",
       "      <th>2</th>\n",
       "      <td>0.108491</td>\n",
       "      <td>0.778601</td>\n",
       "      <td>0.211423</td>\n",
       "      <td>0.263000</td>\n",
       "    </tr>\n",
       "    <tr>\n",
       "      <th>3</th>\n",
       "      <td>0.812285</td>\n",
       "      <td>0.922597</td>\n",
       "      <td>0.752731</td>\n",
       "      <td>0.696823</td>\n",
       "    </tr>\n",
       "  </tbody>\n",
       "</table>\n",
       "</div>"
      ],
      "text/plain": [
       "   Random value 1  Random value 2  Random value 3  Random value 4\n",
       "0        0.329962        0.588452        0.732212        0.240897\n",
       "1        0.654871        0.072691        0.323684        0.717409\n",
       "2        0.108491        0.778601        0.211423        0.263000\n",
       "3        0.812285        0.922597        0.752731        0.696823"
      ]
     },
     "execution_count": 5,
     "metadata": {},
     "output_type": "execute_result"
    }
   ],
   "source": [
    "df = pd.DataFrame(data, columns=['Random value 1', 'Random value 2', 'Random value 3', 'Random value 4'])\n",
    "df"
   ]
  },
  {
   "cell_type": "markdown",
   "id": "3d3fa6a0",
   "metadata": {},
   "source": [
    "# Task - 3"
   ]
  },
  {
   "cell_type": "code",
   "execution_count": 6,
   "id": "76ee2682",
   "metadata": {},
   "outputs": [
    {
     "data": {
      "text/html": [
       "<div>\n",
       "<style scoped>\n",
       "    .dataframe tbody tr th:only-of-type {\n",
       "        vertical-align: middle;\n",
       "    }\n",
       "\n",
       "    .dataframe tbody tr th {\n",
       "        vertical-align: top;\n",
       "    }\n",
       "\n",
       "    .dataframe thead th {\n",
       "        text-align: right;\n",
       "    }\n",
       "</style>\n",
       "<table border=\"1\" class=\"dataframe\">\n",
       "  <thead>\n",
       "    <tr style=\"text-align: right;\">\n",
       "      <th></th>\n",
       "      <th>Random value 1</th>\n",
       "      <th>Random value 2</th>\n",
       "      <th>Random value 3</th>\n",
       "      <th>Random value 4</th>\n",
       "    </tr>\n",
       "  </thead>\n",
       "  <tbody>\n",
       "    <tr>\n",
       "      <th>count</th>\n",
       "      <td>4.000000</td>\n",
       "      <td>4.000000</td>\n",
       "      <td>4.000000</td>\n",
       "      <td>4.000000</td>\n",
       "    </tr>\n",
       "    <tr>\n",
       "      <th>mean</th>\n",
       "      <td>0.476402</td>\n",
       "      <td>0.590585</td>\n",
       "      <td>0.505013</td>\n",
       "      <td>0.479532</td>\n",
       "    </tr>\n",
       "    <tr>\n",
       "      <th>std</th>\n",
       "      <td>0.317003</td>\n",
       "      <td>0.371394</td>\n",
       "      <td>0.278124</td>\n",
       "      <td>0.263080</td>\n",
       "    </tr>\n",
       "    <tr>\n",
       "      <th>min</th>\n",
       "      <td>0.108491</td>\n",
       "      <td>0.072691</td>\n",
       "      <td>0.211423</td>\n",
       "      <td>0.240897</td>\n",
       "    </tr>\n",
       "    <tr>\n",
       "      <th>25%</th>\n",
       "      <td>0.274594</td>\n",
       "      <td>0.459512</td>\n",
       "      <td>0.295619</td>\n",
       "      <td>0.257474</td>\n",
       "    </tr>\n",
       "    <tr>\n",
       "      <th>50%</th>\n",
       "      <td>0.492417</td>\n",
       "      <td>0.683526</td>\n",
       "      <td>0.527948</td>\n",
       "      <td>0.479911</td>\n",
       "    </tr>\n",
       "    <tr>\n",
       "      <th>75%</th>\n",
       "      <td>0.694225</td>\n",
       "      <td>0.814600</td>\n",
       "      <td>0.737342</td>\n",
       "      <td>0.701970</td>\n",
       "    </tr>\n",
       "    <tr>\n",
       "      <th>max</th>\n",
       "      <td>0.812285</td>\n",
       "      <td>0.922597</td>\n",
       "      <td>0.752731</td>\n",
       "      <td>0.717409</td>\n",
       "    </tr>\n",
       "  </tbody>\n",
       "</table>\n",
       "</div>"
      ],
      "text/plain": [
       "       Random value 1  Random value 2  Random value 3  Random value 4\n",
       "count        4.000000        4.000000        4.000000        4.000000\n",
       "mean         0.476402        0.590585        0.505013        0.479532\n",
       "std          0.317003        0.371394        0.278124        0.263080\n",
       "min          0.108491        0.072691        0.211423        0.240897\n",
       "25%          0.274594        0.459512        0.295619        0.257474\n",
       "50%          0.492417        0.683526        0.527948        0.479911\n",
       "75%          0.694225        0.814600        0.737342        0.701970\n",
       "max          0.812285        0.922597        0.752731        0.717409"
      ]
     },
     "execution_count": 6,
     "metadata": {},
     "output_type": "execute_result"
    }
   ],
   "source": [
    "ds = df.describe()\n",
    "ds"
   ]
  },
  {
   "cell_type": "markdown",
   "id": "e7543a33",
   "metadata": {},
   "source": [
    "# Task - 4"
   ]
  },
  {
   "cell_type": "code",
   "execution_count": 8,
   "id": "bb5d3355",
   "metadata": {},
   "outputs": [
    {
     "name": "stdout",
     "output_type": "stream",
     "text": [
      "Random value 1    0\n",
      "Random value 2    0\n",
      "Random value 3    0\n",
      "Random value 4    0\n",
      "dtype: int64\n"
     ]
    },
    {
     "data": {
      "text/plain": [
       "Random value 1    float64\n",
       "Random value 2    float64\n",
       "Random value 3    float64\n",
       "Random value 4    float64\n",
       "dtype: object"
      ]
     },
     "execution_count": 8,
     "metadata": {},
     "output_type": "execute_result"
    }
   ],
   "source": [
    "null = df.isnull().sum()\n",
    "print(null)\n",
    "dt = df.dtypes\n",
    "dt"
   ]
  },
  {
   "cell_type": "markdown",
   "id": "2eb1f7ae",
   "metadata": {},
   "source": [
    "# Task - 5"
   ]
  },
  {
   "cell_type": "code",
   "execution_count": 9,
   "id": "b40f6f18",
   "metadata": {},
   "outputs": [
    {
     "name": "stdout",
     "output_type": "stream",
     "text": [
      "0    0.588452\n",
      "1    0.072691\n",
      "2    0.778601\n",
      "3    0.922597\n",
      "Name: Random value 2, dtype: float64\n",
      "0    0.732212\n",
      "1    0.323684\n",
      "2    0.211423\n",
      "3    0.752731\n",
      "Name: Random value 3, dtype: float64\n"
     ]
    }
   ],
   "source": [
    "value_2 = df['Random value 2']\n",
    "value_3 = df['Random value 3']\n",
    "print(value_2)\n",
    "print(value_3)"
   ]
  },
  {
   "cell_type": "code",
   "execution_count": 10,
   "id": "c5a603f3",
   "metadata": {},
   "outputs": [
    {
     "name": "stdout",
     "output_type": "stream",
     "text": [
      "0    0.588452\n",
      "1    0.072691\n",
      "2    0.778601\n",
      "3    0.922597\n",
      "Name: Random value 2, dtype: float64\n",
      "0    0.732212\n",
      "1    0.323684\n",
      "2    0.211423\n",
      "3    0.752731\n",
      "Name: Random value 3, dtype: float64\n"
     ]
    }
   ],
   "source": [
    "value_2 = df.iloc[:,1]\n",
    "value_3 = df.iloc[:,2]\n",
    "print(value_2)\n",
    "print(value_3)"
   ]
  }
 ],
 "metadata": {
  "kernelspec": {
   "display_name": "Python 3 (ipykernel)",
   "language": "python",
   "name": "python3"
  },
  "language_info": {
   "codemirror_mode": {
    "name": "ipython",
    "version": 3
   },
   "file_extension": ".py",
   "mimetype": "text/x-python",
   "name": "python",
   "nbconvert_exporter": "python",
   "pygments_lexer": "ipython3",
   "version": "3.11.1"
  }
 },
 "nbformat": 4,
 "nbformat_minor": 5
}
